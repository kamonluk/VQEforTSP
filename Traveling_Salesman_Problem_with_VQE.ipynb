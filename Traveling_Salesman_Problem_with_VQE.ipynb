{
 "cells": [
  {
   "cell_type": "code",
   "execution_count": null,
   "metadata": {},
   "outputs": [],
   "source": [
    "# useful additional packages \n",
    "import matplotlib.pyplot as plt\n",
    "import matplotlib.axes as axes\n",
    "%matplotlib inline\n",
    "import numpy as np\n",
    "import networkx as nx\n",
    "\n",
    "from qiskit import Aer\n",
    "from qiskit.tools.visualization import plot_histogram\n",
    "from qiskit.optimization.applications.ising import max_cut, tsp\n",
    "#from qiskit.aqua.operators import Z2Symmetries\n",
    "#from qiskit.aqua.input import EnergyInput\n",
    "from qiskit.aqua.algorithms import VQE, ExactEigensolver, NumPyEigensolver, NumPyMinimumEigensolver \n",
    "from qiskit.aqua.components.optimizers import SPSA\n",
    "from qiskit.aqua.components.variational_forms import RY\n",
    "from qiskit.aqua import QuantumInstance\n",
    "from qiskit.optimization.applications.ising.common import sample_most_likely\n",
    "from qiskit.circuit.library import EfficientSU2, TwoLocal\n",
    "from qiskit.optimization.algorithms import MinimumEigenOptimizer\n",
    "from qiskit.optimization.converters import IsingToQuadraticProgram\n",
    "from qiskit.optimization.problems import QuadraticProgram\n",
    "from qiskit.providers.aer.noise import NoiseModel\n",
    "from qiskit.providers.aer.noise.device.basic_device_model import basic_device_noise_model\n",
    "\n",
    "# setup aqua logging\n",
    "import logging\n",
    "from qiskit.aqua import set_qiskit_aqua_logging\n",
    "set_qiskit_aqua_logging(logging.INFO)  # choose INFO, DEBUG to see the log\n",
    "from qiskit.providers.jobstatus import JobStatus"
   ]
  },
  {
   "cell_type": "code",
   "execution_count": null,
   "metadata": {
    "scrolled": false
   },
   "outputs": [],
   "source": [
    "from qiskit import IBMQ\n",
    "\n",
    "provider = IBMQ.load_account()"
   ]
  },
  {
   "cell_type": "code",
   "execution_count": null,
   "metadata": {},
   "outputs": [],
   "source": [
    "# Generating a graph of 3 nodes\n",
    "n = 3\n",
    "num_qubits = n ** 2\n",
    "\n",
    "#ins = tsp.random_tsp(n, seed=123)\n",
    "ins = tsp.parse_tsplib_format('/home/pui/tsp_sample/3cities.tsp')\n",
    "print('distance\\n', ins.w)\n",
    "\n",
    "G = nx.Graph()\n",
    "G.add_nodes_from(np.arange(0, ins.dim, 1))\n",
    "colors = ['r' for node in G.nodes()]\n",
    "for i in range(0, ins.dim):\n",
    "    for j in range(i+1, ins.dim):\n",
    "        G.add_edge(i, j, weight=ins.w[i,j])\n",
    "pos = {k: v for k, v in enumerate(ins.coord)}\n",
    "\n",
    "#default_axes = plt.axes(frameon=True)\n",
    "#nx.draw_networkx(G, node_color=colors, node_size=600, alpha=.8, ax=default_axes, pos=pos)\n",
    "#print(ins)\n",
    "\n",
    "def draw_graph(G, colors, pos):\n",
    "    default_axes = plt.axes(frameon=True)\n",
    "    nx.draw_networkx(G, node_color=colors, node_size=600, alpha=.8, ax=default_axes, pos=pos)\n",
    "    edge_labels = nx.get_edge_attributes(G, 'weight')\n",
    "    nx.draw_networkx_edge_labels(G, pos=pos, edge_labels=edge_labels)\n",
    "    \n",
    "draw_graph(G, colors, pos)\n"
   ]
  },
  {
   "cell_type": "markdown",
   "metadata": {},
   "source": [
    "Brute force approach"
   ]
  },
  {
   "cell_type": "code",
   "execution_count": null,
   "metadata": {},
   "outputs": [],
   "source": [
    "from itertools import permutations\n",
    "\n",
    "def brute_force_tsp(w, N):\n",
    "    a=list(permutations(range(1,N)))\n",
    "    last_best_distance = 1e10\n",
    "    for i in a:\n",
    "        distance = 0\n",
    "        pre_j = 0\n",
    "        for j in i:\n",
    "            distance = distance + w[j,pre_j]\n",
    "            pre_j = j\n",
    "        distance = distance + w[pre_j,0]\n",
    "        order = (0,) + i\n",
    "        if distance < last_best_distance:\n",
    "            best_order = order\n",
    "            last_best_distance = distance\n",
    "            print('order = ' + str(order) + ' Distance = ' + str(distance))\n",
    "    return last_best_distance, best_order\n",
    "  \n",
    "best_distance, best_order = brute_force_tsp(ins.w, ins.dim)\n",
    "print('Best order from brute force = ' + str(best_order) + ' with total distance = ' + str(best_distance))\n",
    "\n",
    "def draw_tsp_solution(G, order, colors, pos):\n",
    "    G2 = nx.DiGraph()\n",
    "    G2.add_nodes_from(G)\n",
    "    n = len(order)\n",
    "    for i in range(n):\n",
    "        j = (i + 1) % n\n",
    "        G2.add_edge(order[i], order[j], weight=G[order[i]][order[j]]['weight'])\n",
    "    default_axes = plt.axes(frameon=True)\n",
    "    nx.draw_networkx(G2, node_color=colors, edge_color='b', node_size=600, alpha=.8, ax=default_axes, pos=pos)\n",
    "    edge_labels = nx.get_edge_attributes(G2, 'weight')\n",
    "    nx.draw_networkx_edge_labels(G2, pos, font_color='b', edge_labels=edge_labels)\n",
    "    \n",
    "draw_tsp_solution(G, best_order, colors, pos)"
   ]
  },
  {
   "cell_type": "markdown",
   "metadata": {},
   "source": [
    "Mapping to the Ising problem\n",
    "-Generate Hamiltonian for TSP of a graph\n",
    " Input : ins (TspData) : TSP data including coordinates and distances.\n",
    " Return : tuple(WeightedPauliOperator, float): operator for the Hamiltonian and a constant shift for the obj function."
   ]
  },
  {
   "cell_type": "code",
   "execution_count": null,
   "metadata": {
    "scrolled": true
   },
   "outputs": [],
   "source": [
    "#qubitOp, offset = tsp.get_operator(ins)\n",
    "#algo_input = Z2Symmetries(qubitOp)\n",
    "qubitOp, offset = tsp.get_operator(ins)\n",
    "print('Offset:', offset)\n",
    "print('Ising Hamiltonian:')\n",
    "print(qubitOp.print_details())"
   ]
  },
  {
   "cell_type": "code",
   "execution_count": null,
   "metadata": {},
   "outputs": [],
   "source": [
    "qp = QuadraticProgram()\n",
    "qp.from_ising(qubitOp, offset, linear=True)\n",
    "qp.to_docplex().prettyprint()"
   ]
  },
  {
   "cell_type": "markdown",
   "metadata": {},
   "source": [
    "Checking that the full Hamiltonian gives the right cost"
   ]
  },
  {
   "cell_type": "code",
   "execution_count": null,
   "metadata": {},
   "outputs": [],
   "source": [
    "exact = MinimumEigenOptimizer(NumPyMinimumEigensolver())\n",
    "result = exact.solve(qp)\n",
    "print(result)"
   ]
  },
  {
   "cell_type": "code",
   "execution_count": null,
   "metadata": {},
   "outputs": [],
   "source": [
    "#Making the Hamiltonian in its full form and getting the lowest eigenvalue and eigenvector\n",
    "ee = NumPyMinimumEigensolver(qubitOp)\n",
    "result = ee.run()\n",
    "\n",
    "print('energy:', result.eigenvalue.real)\n",
    "print('tsp objective:', result.eigenvalue.real + offset)\n",
    "x = sample_most_likely(result.eigenstate)\n",
    "print('feasible:', tsp.tsp_feasible(x))\n",
    "z = tsp.get_tsp_solution(x)\n",
    "print('solution:', z)\n",
    "print('solution objective:', tsp.tsp_value(z, ins.w))\n",
    "draw_tsp_solution(G, z, colors, pos)\n"
   ]
  },
  {
   "cell_type": "code",
   "execution_count": null,
   "metadata": {
    "scrolled": true
   },
   "outputs": [],
   "source": [
    "print(result)"
   ]
  },
  {
   "cell_type": "markdown",
   "metadata": {},
   "source": [
    "Running it on quantum computer\n",
    "\n",
    "We run the optimization routine using a feedback loop with a quantum computer that uses trial functions built with Y single-qubit rotations, 𝑈single(𝜃)=∏𝑛𝑖=1𝑌(𝜃𝑖)\n",
    ", and entangler steps 𝑈entangler."
   ]
  },
  {
   "cell_type": "markdown",
   "metadata": {},
   "source": [
    "Run on statevector simulator"
   ]
  },
  {
   "cell_type": "code",
   "execution_count": null,
   "metadata": {
    "scrolled": true
   },
   "outputs": [],
   "source": [
    "seed = 10598\n",
    "#seed = 1\n",
    "backend = Aer.get_backend('statevector_simulator')\n",
    "quantum_instance = QuantumInstance(backend, seed_simulator=seed, seed_transpiler=seed)\n",
    "\n",
    "spsa = SPSA(max_trials=200)\n",
    "#ry = RY.(qubitOp.num_qubits, depth=5, entanglement='linear')\n",
    "ry = TwoLocal(qubitOp.num_qubits, 'ry', 'cz', reps=5, entanglement='linear')\n",
    "#form = EfficientSU2(qubitOp.num_qubits, su2_gates=['ry'], entanglement='linear')\n",
    "#vqe = VQE(qubitOp, ry, spsa)\n",
    "#vqe = VQE(qubitOp, form, spsa)\n",
    "vqe = VQE(qubitOp, ry, spsa, quantum_instance=quantum_instance)\n",
    "\n",
    "result = vqe.run(quantum_instance)\n",
    "#display(form.draw())\n",
    "#print(form.qasm())\n",
    "\n",
    "print('energy:', result.eigenvalue.real)\n",
    "print('tsp objective:', result.eigenvalue.real + offset)\n",
    "x = sample_most_likely(result.eigenstate)\n",
    "print('feasible:', tsp.tsp_feasible(x))\n",
    "z = tsp.get_tsp_solution(x)\n",
    "print('solution:', z)\n",
    "print('solution objective:', tsp.tsp_value(z, ins.w))\n",
    "draw_tsp_solution(G, z, colors, pos)\n"
   ]
  },
  {
   "cell_type": "code",
   "execution_count": null,
   "metadata": {},
   "outputs": [],
   "source": [
    "print(result)"
   ]
  },
  {
   "cell_type": "code",
   "execution_count": null,
   "metadata": {},
   "outputs": [],
   "source": [
    "#create minimum eigen optimizer based on VQE and solve quadratic program\n",
    "\n",
    "seed = 10598\n",
    "backend = Aer.get_backend('statevector_simulator')\n",
    "quantum_instance = QuantumInstance(backend, seed_simulator=seed, seed_transpiler=seed)\n",
    "# create minimum eigen optimizer based on VQE\n",
    "vqe_optimizer = MinimumEigenOptimizer(vqe)\n",
    "\n",
    "# solve quadratic program\n",
    "result = vqe_optimizer.solve(qp)\n",
    "print(result)\n",
    "\n",
    "z = tsp.get_tsp_solution(x)\n",
    "print('solution:', z)\n",
    "print('solution objective:', tsp.tsp_value(z, ins.w))\n",
    "draw_tsp_solution(G, z, colors, pos)"
   ]
  },
  {
   "cell_type": "markdown",
   "metadata": {},
   "source": [
    "Run on qasm simulator"
   ]
  },
  {
   "cell_type": "code",
   "execution_count": null,
   "metadata": {
    "scrolled": true
   },
   "outputs": [],
   "source": [
    "# run quantum algorithm with shots\n",
    "\n",
    "seed = 10598\n",
    "backend = Aer.get_backend('qasm_simulator')\n",
    "quantum_instance = QuantumInstance(backend, shots=1024, seed_simulator=seed, seed_transpiler=seed)\n",
    "\n",
    "spsa = SPSA(max_trials=500)\n",
    "#ry = RY(qubitOp.num_qubits, depth=5, entanglement='linear')\n",
    "ry = TwoLocal(qubitOp.num_qubits, 'ry', 'cz', reps=5, entanglement='linear')\n",
    "#form = EfficientSU2(qubitOp.num_qubits, su2_gates=['ry'], entanglement='linear')\n",
    "#vqe = VQE(qubitOp, ry, spsa)\n",
    "#vqe = VQE(qubitOp, form, spsa)\n",
    "vqe = VQE(qubitOp, ry, spsa, quantum_instance=quantum_instance)\n",
    "\n",
    "result = vqe.run(quantum_instance)\n",
    "\n",
    "print('energy:', result.eigenvalue.real)\n",
    "print('tsp objective:', result.eigenvalue.real + offset)\n",
    "x = sample_most_likely(result.eigenstate)\n",
    "print('feasible:', tsp.tsp_feasible(x))\n",
    "z = tsp.get_tsp_solution(x)\n",
    "print('solution:', z)\n",
    "print('solution objective:', tsp.tsp_value(z, ins.w))\n",
    "draw_tsp_solution(G, z, colors, pos)\n"
   ]
  },
  {
   "cell_type": "code",
   "execution_count": null,
   "metadata": {
    "scrolled": true
   },
   "outputs": [],
   "source": [
    "print(result)"
   ]
  },
  {
   "cell_type": "code",
   "execution_count": null,
   "metadata": {
    "scrolled": true
   },
   "outputs": [],
   "source": [
    "result['eigenstate']"
   ]
  },
  {
   "cell_type": "code",
   "execution_count": null,
   "metadata": {
    "scrolled": true
   },
   "outputs": [],
   "source": [
    "plot_histogram(result['eigenstate'])"
   ]
  },
  {
   "cell_type": "code",
   "execution_count": null,
   "metadata": {
    "scrolled": true
   },
   "outputs": [],
   "source": [
    "ry.qasm(filename='/home/pui/tsp.txt')"
   ]
  },
  {
   "cell_type": "code",
   "execution_count": null,
   "metadata": {},
   "outputs": [],
   "source": [
    "#create minimum eigen optimizer based on VQE and solve quadratic program\n",
    "\n",
    "seed = 10598\n",
    "backend = Aer.get_backend('qasm_simulator')\n",
    "quantum_instance = QuantumInstance(backend, seed_simulator=seed, seed_transpiler=seed)\n",
    "# create minimum eigen optimizer based on VQE\n",
    "vqe_optimizer = MinimumEigenOptimizer(vqe)\n",
    "\n",
    "# solve quadratic program\n",
    "result = vqe_optimizer.solve(qp)\n",
    "print(result)\n",
    "\n",
    "z = tsp.get_tsp_solution(x)\n",
    "print('solution:', z)\n",
    "print('solution objective:', tsp.tsp_value(z, ins.w))\n",
    "draw_tsp_solution(G, z, colors, pos)"
   ]
  },
  {
   "cell_type": "markdown",
   "metadata": {},
   "source": [
    "Run on real device"
   ]
  },
  {
   "cell_type": "code",
   "execution_count": null,
   "metadata": {
    "scrolled": true
   },
   "outputs": [],
   "source": [
    "# run quantum algorithm with shots\n",
    "\n",
    "seed = 10598\n",
    "backend = provider.get_backend('ibmq_qasm_simulator')\n",
    "quantum_instance = QuantumInstance(backend, shots=1024, seed_simulator=seed, seed_transpiler=seed)\n",
    "\n",
    "spsa = SPSA(max_trials=300)\n",
    "ry = TwoLocal(qubitOp.num_qubits, 'ry', 'cz', reps=5, entanglement='linear')\n",
    "vqe = VQE(qubitOp, ry, spsa, quantum_instance=quantum_instance)\n",
    "\n",
    "\n",
    "#ry = RY(qubitOp.num_qubits, depth=5, entanglement='linear')\n",
    "#form = EfficientSU2(qubitOp.num_qubits, su2_gates=['ry'], entanglement='linear')\n",
    "#vqe = VQE(qubitOp, ry, spsa)\n",
    "#vqe = VQE(qubitOp, form, spsa)\n",
    "\n",
    "result = vqe.run(quantum_instance)\n",
    "\n",
    "print('energy:', result.eigenvalue.real)\n",
    "print('tsp objective:', result.eigenvalue.real + offset)\n",
    "x = sample_most_likely(result.eigenstate)\n",
    "print('feasible:', tsp.tsp_feasible(x))\n",
    "z = tsp.get_tsp_solution(x)\n",
    "print('solution:', z)\n",
    "print('solution objective:', tsp.tsp_value(z, ins.w))\n",
    "draw_tsp_solution(G, z, colors, pos)"
   ]
  },
  {
   "cell_type": "code",
   "execution_count": null,
   "metadata": {},
   "outputs": [],
   "source": [
    "result['eigenstate']"
   ]
  },
  {
   "cell_type": "code",
   "execution_count": null,
   "metadata": {},
   "outputs": [],
   "source": [
    "plot_histogram(result['eigenstate'])"
   ]
  },
  {
   "cell_type": "code",
   "execution_count": null,
   "metadata": {
    "scrolled": true
   },
   "outputs": [],
   "source": [
    "# run quantum algorithm with shots\n",
    "\n",
    "seed = 10598\n",
    "backend = provider.get_backend('ibmq_16_melbourne')\n",
    "#noise_model = basic_device_noise_model(provider.get_backend('ibmq_16_melbourne').properties())\n",
    "noise_model = NoiseModel.from_backend(backend)\n",
    "basis_gates = noise_model.basis_gates\n",
    "coupling_map = backend.configuration().coupling_map\n",
    "simulator = Aer.get_backend('qasm_simulator')\n",
    "quantum_instance = QuantumInstance(simulator, noise_model=noise_model, basis_gates=basis_gates, coupling_map=coupling_map, shots=1024, seed_simulator=seed, seed_transpiler=seed, skip_qobj_validation=False)\n",
    "\n",
    "spsa = SPSA(max_trials=10000)\n",
    "#ry = RY(qubitOp.num_qubits, depth=5, entanglement='linear')\n",
    "ry = TwoLocal(qubitOp.num_qubits, 'ry', 'cz', reps=5, entanglement='linear')\n",
    "#vqe = VQE(qubitOp, ry, spsa)\n",
    "vqe = VQE(qubitOp, ry, spsa, quantum_instance=quantum_instance)\n",
    "\n",
    "#backend = provider.get_backend('ibmq_16_melbourne')\n",
    "\n",
    "#noise_model = NoiseModel.from_backend(backend)\n",
    "#basis_gates = noise_model.basis_gates\n",
    "#coupling_map = backend.configuration().coupling_map\n",
    "\n",
    "\n",
    "result = vqe.run(quantum_instance)\n",
    "\n",
    "print('energy:', result['eigenvalue'])\n",
    "print('time:', result['optimizer_time'])\n",
    "#print('tsp objective:', result['energy'] + offset)\n",
    "x = sample_most_likely(result['eigenstate'])\n",
    "#x = tsp.sample_most_likely(result['eigvecs'][0])\n",
    "print('feasible:', tsp.tsp_feasible(x))\n",
    "z = tsp.get_tsp_solution(x)\n",
    "print('solution:', z)\n",
    "print('solution objective:', tsp.tsp_value(z, ins.w))\n",
    "\n",
    "draw_tsp_solution(G, z, colors, pos)"
   ]
  },
  {
   "cell_type": "code",
   "execution_count": null,
   "metadata": {},
   "outputs": [],
   "source": [
    "plot_histogram(result['eigenstate'])"
   ]
  },
  {
   "cell_type": "markdown",
   "metadata": {},
   "source": [
    "[Optional] Checking that the full Hamiltonian made by docplex.get_operator gives the right cost"
   ]
  },
  {
   "cell_type": "code",
   "execution_count": null,
   "metadata": {},
   "outputs": [],
   "source": [
    "from docplex.mp.model import Model\n",
    "from qiskit.optimization.ising import docplex\n",
    "\n",
    "# Create an instance of a model and variables\n",
    "mdl = Model(name='tsp')\n",
    "x = {(i,p): mdl.binary_var(name='x_{0}_{1}'.format(i,p)) for i in range(n) for p in range(n)}\n",
    "\n",
    "# Object function\n",
    "tsp_func = mdl.sum(ins.w[i,j] * x[(i,p)] * x[(j,(p+1)%n)] for i in range(n) for j in range(n) for p in range(n))\n",
    "mdl.minimize(tsp_func)\n",
    "\n",
    "# Constrains\n",
    "for i in range(n):\n",
    "    mdl.add_constraint(mdl.sum(x[(i,p)] for p in range(n)) == 1)\n",
    "for p in range(n):\n",
    "    mdl.add_constraint(mdl.sum(x[(i,p)] for i in range(n)) == 1)"
   ]
  },
  {
   "cell_type": "code",
   "execution_count": null,
   "metadata": {},
   "outputs": [],
   "source": [
    "qubitOp_docplex, offset_docplex = docplex.get_operator(mdl)"
   ]
  },
  {
   "cell_type": "code",
   "execution_count": null,
   "metadata": {},
   "outputs": [],
   "source": [
    "ee = NumPyEigensolver(qubitOp_docplex, k=1)\n",
    "result = ee.run()\n",
    "\n",
    "print('energy:', result['energy'])\n",
    "print('tsp objective:', result['energy'] + offset_docplex)\n",
    "\n",
    "x = sample_most_likely(result['eigvecs'][0])\n",
    "print('feasible:', tsp.tsp_feasible(x))\n",
    "z = tsp.get_tsp_solution(x)\n",
    "print('solution:', z)\n",
    "print('solution objective:', tsp.tsp_value(z, ins.w))\n",
    "draw_tsp_solution(G, z, colors, pos)"
   ]
  },
  {
   "cell_type": "code",
   "execution_count": null,
   "metadata": {},
   "outputs": [],
   "source": []
  }
 ],
 "metadata": {
  "kernelspec": {
   "display_name": "Python 3",
   "language": "python",
   "name": "python3"
  },
  "language_info": {
   "codemirror_mode": {
    "name": "ipython",
    "version": 3
   },
   "file_extension": ".py",
   "mimetype": "text/x-python",
   "name": "python",
   "nbconvert_exporter": "python",
   "pygments_lexer": "ipython3",
   "version": "3.8.2"
  }
 },
 "nbformat": 4,
 "nbformat_minor": 4
}
